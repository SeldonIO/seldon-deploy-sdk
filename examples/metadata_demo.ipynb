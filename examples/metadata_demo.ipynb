{
 "cells": [
  {
   "cell_type": "markdown",
   "metadata": {},
   "source": [
    "# Model Metadata API Demo"
   ]
  },
  {
   "cell_type": "markdown",
   "metadata": {},
   "source": [
    "The Model Metadata API is still in developement. This demo showcases some of the functionality of the new API.\n",
    "\n",
    "**Note**: If you are running with self-signed certificate make sure to set `CURL_CA_BUNDLE` environmental variable before executing this notebook, for example start the notebook server with:\n",
    "```bash\n",
    "CURL_CA_BUNDLE=\"\" jupyter lab\n",
    "```"
   ]
  },
  {
   "cell_type": "markdown",
   "metadata": {},
   "source": [
    "## API Configuration"
   ]
  },
  {
   "cell_type": "code",
   "execution_count": 1,
   "metadata": {},
   "outputs": [],
   "source": [
    "from seldon_deploy_sdk.rest import ApiException\n",
    "from seldon_deploy_sdk import V1Model, ModelMetadataServiceApi, Configuration, ApiClient\n",
    "from seldon_deploy_sdk.auth import OIDCAuthenticator"
   ]
  },
  {
   "cell_type": "code",
   "execution_count": 2,
   "metadata": {},
   "outputs": [],
   "source": [
    "from pprint import pprint\n",
    "import json"
   ]
  },
  {
   "cell_type": "code",
   "execution_count": 3,
   "metadata": {},
   "outputs": [],
   "source": [
    "# For local testing use\n",
    "INGRESS = \"http://localhost:8080\"\n",
    "\n",
    "# For production usecase set this to your ingress\n",
    "# for example if your SD URL is http://xxx.yyy.zzz.xyz/seldon-deploy/api/v1alpha1 set\n",
    "# INGRESS = \"http://xxx.yyy.zzz.xyz\""
   ]
  },
  {
   "cell_type": "code",
   "execution_count": 4,
   "metadata": {},
   "outputs": [],
   "source": [
    "config = Configuration()\n",
    "config.host = f\"{INGRESS}/seldon-deploy/api/v1alpha1\"\n",
    "config.verify_ssl = False"
   ]
  },
  {
   "cell_type": "code",
   "execution_count": 5,
   "metadata": {},
   "outputs": [],
   "source": [
    "# auth if needed\n",
    "config.oidc_server = f\"{INGRESS}/auth/realms/deploy-realm\"\n",
    "config.oidc_client_id = \"sd-api\"\n",
    "config.oidc_client_secret = \"sd-api-secret\"\n",
    "config.auth_method = \"client_credentials\"\n",
    "\n",
    "# Alternativey set instead of the \"client_credentials\" flow\n",
    "# config.username = \"admin@seldon.io\"\n",
    "# config.password = \"12341234\"\n",
    "# config.auth_method = \"password_grant\"\n",
    "\n",
    "auth = OIDCAuthenticator(config)\n",
    "config.id_token = auth.authenticate()"
   ]
  },
  {
   "cell_type": "code",
   "execution_count": 6,
   "metadata": {},
   "outputs": [],
   "source": [
    "api_client = ApiClient(configuration=config, authenticator=auth)\n",
    "api_instance = ModelMetadataServiceApi(api_client)"
   ]
  },
  {
   "cell_type": "markdown",
   "metadata": {},
   "source": [
    "## Add single model to the Model Catalogue"
   ]
  },
  {
   "cell_type": "code",
   "execution_count": 7,
   "metadata": {},
   "outputs": [],
   "source": [
    "model = V1Model(\n",
    "    uri=\"gs://test-model-alpha-v1.0.0\",\n",
    "    name=\"alpha\",\n",
    "    version=\"v1.0.0\",\n",
    "    artifact_type=\"XGBOOST\",\n",
    "    task_type=\"regression\",\n",
    "    tags={\n",
    "        \"source\": \"https://github.com/some-test-model-alpha-repo\",\n",
    "        \"an arbitrary tag\": \"true\",\n",
    "    },\n",
    ")\n",
    "try:\n",
    "    # Create a Model Metadata entry.\n",
    "    api_response = api_instance.model_metadata_service_create_model_metadata(model)\n",
    "except ApiException as e:\n",
    "    print(f\"Couldn't create model: {json.loads(e.body)['message']}\")"
   ]
  },
  {
   "cell_type": "markdown",
   "metadata": {},
   "source": [
    "## Add multiple models to the Model Catalogue"
   ]
  },
  {
   "cell_type": "code",
   "execution_count": 8,
   "metadata": {},
   "outputs": [],
   "source": [
    "models = [\n",
    "    #     Same model different versions\n",
    "    {\n",
    "        \"uri\": \"gs://test-model-beta-v1.0.0\",\n",
    "        \"name\": \"beta\",\n",
    "        \"version\": \"v1.0.0\",\n",
    "        \"artifact_type\": \"SKLEARN\",\n",
    "        \"task_type\": \"classification\",\n",
    "        \"tags\": {\"author\": \"Jon\"},\n",
    "    },\n",
    "    {\n",
    "        \"uri\": \"gs://test-model-beta-v2.0.0\",\n",
    "        \"name\": \"beta\",\n",
    "        \"version\": \"v2.0.0\",\n",
    "        \"artifact_type\": \"SKLEARN\",\n",
    "        \"task_type\": \"classification\",\n",
    "        \"tags\": {\"author\": \"Bob\"},\n",
    "    },\n",
    "    {\n",
    "        \"uri\": \"gs://test-model-beta-v3.0.0\",\n",
    "        \"name\": \"beta\",\n",
    "        \"version\": \"v3.0.0\",\n",
    "        \"artifact_type\": \"SKLEARN\",\n",
    "        \"task_type\": \"classification\",\n",
    "        \"tags\": {\"author\": \"Bob\"},\n",
    "    },\n",
    "]\n",
    "\n",
    "for model in models:\n",
    "    body = V1Model(**model)\n",
    "    try:\n",
    "        api_response = api_instance.model_metadata_service_create_model_metadata(body)\n",
    "    except ApiException as e:\n",
    "        print(f\"Couldn't create model: {json.loads(e.body)['message']}\")"
   ]
  },
  {
   "cell_type": "markdown",
   "metadata": {},
   "source": [
    "## List all models in the Model Catalogue"
   ]
  },
  {
   "cell_type": "code",
   "execution_count": 9,
   "metadata": {},
   "outputs": [
    {
     "name": "stdout",
     "output_type": "stream",
     "text": [
      "{'models': [{'artifact_type': 'XGBOOST',\n",
      "             'creation_time': datetime.datetime(2021, 7, 8, 13, 15, 36, 85891, tzinfo=tzutc()),\n",
      "             'metrics': {},\n",
      "             'name': 'alpha',\n",
      "             'prediction_schema': None,\n",
      "             'project': 'default',\n",
      "             'tags': {'an arbitrary tag': 'true',\n",
      "                      'source': 'https://github.com/some-test-model-alpha-repo'},\n",
      "             'task_type': 'regression',\n",
      "             'uri': 'gs://test-model-alpha-v1.0.0',\n",
      "             'version': 'v1.0.0'},\n",
      "            {'artifact_type': 'SKLEARN',\n",
      "             'creation_time': datetime.datetime(2021, 7, 8, 13, 15, 36, 114326, tzinfo=tzutc()),\n",
      "             'metrics': {},\n",
      "             'name': 'beta',\n",
      "             'prediction_schema': None,\n",
      "             'project': 'default',\n",
      "             'tags': {'author': 'Jon'},\n",
      "             'task_type': 'classification',\n",
      "             'uri': 'gs://test-model-beta-v1.0.0',\n",
      "             'version': 'v1.0.0'},\n",
      "            {'artifact_type': 'SKLEARN',\n",
      "             'creation_time': datetime.datetime(2021, 7, 8, 13, 15, 36, 131331, tzinfo=tzutc()),\n",
      "             'metrics': {},\n",
      "             'name': 'beta',\n",
      "             'prediction_schema': None,\n",
      "             'project': 'default',\n",
      "             'tags': {'author': 'Bob'},\n",
      "             'task_type': 'classification',\n",
      "             'uri': 'gs://test-model-beta-v2.0.0',\n",
      "             'version': 'v2.0.0'},\n",
      "            {'artifact_type': 'SKLEARN',\n",
      "             'creation_time': datetime.datetime(2021, 7, 8, 13, 15, 36, 150716, tzinfo=tzutc()),\n",
      "             'metrics': {},\n",
      "             'name': 'beta',\n",
      "             'prediction_schema': None,\n",
      "             'project': 'default',\n",
      "             'tags': {'author': 'Bob'},\n",
      "             'task_type': 'classification',\n",
      "             'uri': 'gs://test-model-beta-v3.0.0',\n",
      "             'version': 'v3.0.0'},\n",
      "            {'artifact_type': 'TENSORFLOW',\n",
      "             'creation_time': datetime.datetime(2021, 7, 8, 12, 44, 36, 987142, tzinfo=tzutc()),\n",
      "             'metrics': {},\n",
      "             'name': '',\n",
      "             'prediction_schema': None,\n",
      "             'project': 'default',\n",
      "             'tags': {'auto_created': 'true'},\n",
      "             'task_type': '',\n",
      "             'uri': 'gs://seldon-models/tfserving/cifar10/resnet32',\n",
      "             'version': ''},\n",
      "            {'artifact_type': 'SKLEARN',\n",
      "             'creation_time': datetime.datetime(2021, 7, 8, 12, 44, 37, 25240, tzinfo=tzutc()),\n",
      "             'metrics': {},\n",
      "             'name': '',\n",
      "             'prediction_schema': None,\n",
      "             'project': 'default',\n",
      "             'tags': {'auto_created': 'true'},\n",
      "             'task_type': '',\n",
      "             'uri': 'gs://seldon-models/sklearn/iris',\n",
      "             'version': ''},\n",
      "            {'artifact_type': 'XGBOOST',\n",
      "             'creation_time': datetime.datetime(2021, 7, 8, 12, 44, 37, 36334, tzinfo=tzutc()),\n",
      "             'metrics': {},\n",
      "             'name': '',\n",
      "             'prediction_schema': None,\n",
      "             'project': 'default',\n",
      "             'tags': {'auto_created': 'true'},\n",
      "             'task_type': '',\n",
      "             'uri': 'gs://seldon-models/xgboost/iris',\n",
      "             'version': ''}],\n",
      " 'next_page_token': ''}\n"
     ]
    }
   ],
   "source": [
    "try:\n",
    "    # List Model Metadata entries.\n",
    "    api_response = api_instance.model_metadata_service_list_model_metadata()\n",
    "    pprint(api_response)\n",
    "except ApiException as e:\n",
    "    print(f\"Failed to call API: {json.loads(e.body)['message']}\")"
   ]
  },
  {
   "cell_type": "markdown",
   "metadata": {},
   "source": [
    "## Get all version of a given model (named \"beta\")"
   ]
  },
  {
   "cell_type": "code",
   "execution_count": 10,
   "metadata": {},
   "outputs": [
    {
     "name": "stdout",
     "output_type": "stream",
     "text": [
      "Filter by name=beta\n",
      "{'models': [{'artifact_type': 'SKLEARN',\n",
      "             'creation_time': datetime.datetime(2021, 7, 8, 13, 15, 36, 114326, tzinfo=tzutc()),\n",
      "             'metrics': {},\n",
      "             'name': 'beta',\n",
      "             'prediction_schema': None,\n",
      "             'project': 'default',\n",
      "             'tags': {'author': 'Jon'},\n",
      "             'task_type': 'classification',\n",
      "             'uri': 'gs://test-model-beta-v1.0.0',\n",
      "             'version': 'v1.0.0'}],\n",
      " 'next_page_token': ''}\n"
     ]
    }
   ],
   "source": [
    "# uri = 'uri_example'                       # str |  (optional)\n",
    "# name = 'name_example'                     # str |  (optional)\n",
    "# version = 'version_example'               # str |  (optional)\n",
    "# artifactType = 'artifactType_example' # str |  (optional)\n",
    "# task_type = 'task_type_example'           # str |  (optional)\n",
    "# model_type = 'model_type_example'         # str |  (optional)\n",
    "\n",
    "try:\n",
    "    # List Model Metadata entries.\n",
    "    api_response = api_instance.model_metadata_service_list_model_metadata(\n",
    "        name=\"beta\", tags={\"author\": \"Jon\"}\n",
    "    )\n",
    "    print(\"Filter by name=beta\")\n",
    "    pprint(api_response)\n",
    "except ApiException as e:\n",
    "    print(f\"Failed to call API: {json.loads(e.body)['message']}\")"
   ]
  },
  {
   "cell_type": "markdown",
   "metadata": {},
   "source": [
    "## Get all models authored by Bob (tags.author = Bob)"
   ]
  },
  {
   "cell_type": "code",
   "execution_count": 11,
   "metadata": {},
   "outputs": [
    {
     "name": "stdout",
     "output_type": "stream",
     "text": [
      "Filter by name=beta\n",
      "{'models': [{'artifact_type': 'SKLEARN',\n",
      "             'creation_time': datetime.datetime(2021, 7, 8, 13, 15, 36, 131331, tzinfo=tzutc()),\n",
      "             'metrics': {},\n",
      "             'name': 'beta',\n",
      "             'prediction_schema': None,\n",
      "             'project': 'default',\n",
      "             'tags': {'author': 'Bob'},\n",
      "             'task_type': 'classification',\n",
      "             'uri': 'gs://test-model-beta-v2.0.0',\n",
      "             'version': 'v2.0.0'},\n",
      "            {'artifact_type': 'SKLEARN',\n",
      "             'creation_time': datetime.datetime(2021, 7, 8, 13, 15, 36, 150716, tzinfo=tzutc()),\n",
      "             'metrics': {},\n",
      "             'name': 'beta',\n",
      "             'prediction_schema': None,\n",
      "             'project': 'default',\n",
      "             'tags': {'author': 'Bob'},\n",
      "             'task_type': 'classification',\n",
      "             'uri': 'gs://test-model-beta-v3.0.0',\n",
      "             'version': 'v3.0.0'}],\n",
      " 'next_page_token': ''}\n"
     ]
    }
   ],
   "source": [
    "# uri = 'uri_example'                       # str |  (optional)\n",
    "# name = 'name_example'                     # str |  (optional)\n",
    "# version = 'version_example'               # str |  (optional)\n",
    "# artifactType = 'artifactType_example' # str |  (optional)\n",
    "# task_type = 'task_type_example'           # str |  (optional)\n",
    "# model_type = 'model_type_example'         # str |  (optional)\n",
    "\n",
    "try:\n",
    "    # List Model Metadata entries.\n",
    "    api_response = api_instance.model_metadata_service_list_model_metadata(\n",
    "        tags={\"author\": \"Bob\"}\n",
    "    )\n",
    "    print(\"Filter by name=beta\")\n",
    "    pprint(api_response)\n",
    "except ApiException as e:\n",
    "    print(f\"Failed to call API: {json.loads(e.body)['message']}\")"
   ]
  },
  {
   "cell_type": "markdown",
   "metadata": {},
   "source": [
    "## Modify model metadata entry in the Model Catalogue"
   ]
  },
  {
   "cell_type": "code",
   "execution_count": 12,
   "metadata": {},
   "outputs": [
    {
     "name": "stdout",
     "output_type": "stream",
     "text": [
      "Before update:\n",
      "{'models': [{'artifact_type': 'XGBOOST',\n",
      "             'creation_time': datetime.datetime(2021, 7, 8, 13, 15, 36, 85891, tzinfo=tzutc()),\n",
      "             'metrics': {},\n",
      "             'name': 'alpha',\n",
      "             'prediction_schema': None,\n",
      "             'project': 'default',\n",
      "             'tags': {'an arbitrary tag': 'true',\n",
      "                      'source': 'https://github.com/some-test-model-alpha-repo'},\n",
      "             'task_type': 'regression',\n",
      "             'uri': 'gs://test-model-alpha-v1.0.0',\n",
      "             'version': 'v1.0.0'}],\n",
      " 'next_page_token': ''}\n",
      "Failed to call API: code=NotFound desc=record not found\n",
      "After update:\n",
      "{'models': [{'artifact_type': 'XGBOOST',\n",
      "             'creation_time': datetime.datetime(2021, 7, 8, 13, 15, 36, 85891, tzinfo=tzutc()),\n",
      "             'metrics': {},\n",
      "             'name': 'alpha',\n",
      "             'prediction_schema': None,\n",
      "             'project': 'default',\n",
      "             'tags': {'an arbitrary tag': 'true',\n",
      "                      'source': 'https://github.com/some-test-model-alpha-repo'},\n",
      "             'task_type': 'regression',\n",
      "             'uri': 'gs://test-model-alpha-v1.0.0',\n",
      "             'version': 'v1.0.0'}],\n",
      " 'next_page_token': ''}\n"
     ]
    }
   ],
   "source": [
    "try:\n",
    "    # Get Model Metadata entries.\n",
    "    api_response = api_instance.model_metadata_service_list_model_metadata(\n",
    "        uri=\"gs://test-model-alpha-v1.0.0\"\n",
    "    )\n",
    "    print(\"Before update:\")\n",
    "    pprint(api_response)\n",
    "except ApiException as e:\n",
    "    print(f\"Failed to call API: {json.loads(e.body)['message']}\")\n",
    "\n",
    "\n",
    "model = V1Model(\n",
    "    uri=\"gs://test-model-alpha-v1.0.0\",\n",
    "    name=\"alpha\",\n",
    "    version=\"v1.0.0\",\n",
    "    artifact_type=\"XGBOOST\",\n",
    "    task_type=\"regression\",\n",
    "    tags={\n",
    "        \"source\": \"https://github.com/some-other-repo\",\n",
    "        \"an arbitrary tag\": \"true\",\n",
    "        \"an additional tag\": \"123\",\n",
    "    },\n",
    ")\n",
    "\n",
    "try:\n",
    "    # Update a Model Metadata entry.\n",
    "    api_response = api_instance.model_metadata_service_update_model_metadata(model)\n",
    "    pprint(api_response)\n",
    "except ApiException as e:\n",
    "    print(f\"Failed to call API: {json.loads(e.body)['message']}\")\n",
    "\n",
    "try:\n",
    "    # List Model Metadata entries.\n",
    "    api_response = api_instance.model_metadata_service_list_model_metadata(\n",
    "        uri=\"gs://test-model-alpha-v1.0.0\"\n",
    "    )\n",
    "    print(\"After update:\")\n",
    "    pprint(api_response)\n",
    "except ApiException as e:\n",
    "    print(f\"Failed to call API: {json.loads(e.body)['message']}\")"
   ]
  },
  {
   "cell_type": "markdown",
   "metadata": {},
   "source": [
    "## Get runtime information for a model"
   ]
  },
  {
   "cell_type": "code",
   "execution_count": 13,
   "metadata": {},
   "outputs": [
    {
     "name": "stdout",
     "output_type": "stream",
     "text": [
      "{'next_page_token': '',\n",
      " 'runtime_metadata': [{'creation_time': datetime.datetime(2021, 7, 8, 12, 44, 37, 29639, tzinfo=tzutc()),\n",
      "                       'deployment_kubernetes_uid': 'e26d3103-4f84-4044-97ef-4d704b67bd75',\n",
      "                       'deployment_name': 'iris-canary',\n",
      "                       'deployment_namespace': 'seldon-demos',\n",
      "                       'deployment_status': 'Running',\n",
      "                       'deployment_type': 'SeldonDeployment',\n",
      "                       'model': {'artifact_type': 'SKLEARN',\n",
      "                                 'creation_time': datetime.datetime(2021, 7, 8, 12, 44, 37, 25240, tzinfo=tzutc()),\n",
      "                                 'metrics': {},\n",
      "                                 'name': '',\n",
      "                                 'prediction_schema': None,\n",
      "                                 'project': 'default',\n",
      "                                 'tags': {'auto_created': 'true'},\n",
      "                                 'task_type': '',\n",
      "                                 'uri': 'gs://seldon-models/sklearn/iris',\n",
      "                                 'version': ''},\n",
      "                       'model_uri': 'gs://seldon-models/sklearn/iris',\n",
      "                       'node_name': 'iris-canary-container',\n",
      "                       'predictor_name': 'default',\n",
      "                       'shadow': False,\n",
      "                       'traffic': '90'},\n",
      "                      {'creation_time': datetime.datetime(2021, 7, 8, 12, 48, 49, 996794, tzinfo=tzutc()),\n",
      "                       'deployment_kubernetes_uid': '9d09ed08-21ca-4821-96d5-12b9ebed7f13',\n",
      "                       'deployment_name': 'iris',\n",
      "                       'deployment_namespace': 'seldon',\n",
      "                       'deployment_status': 'Running',\n",
      "                       'deployment_type': 'SeldonDeployment',\n",
      "                       'model': {'artifact_type': 'SKLEARN',\n",
      "                                 'creation_time': datetime.datetime(2021, 7, 8, 12, 44, 37, 25240, tzinfo=tzutc()),\n",
      "                                 'metrics': {},\n",
      "                                 'name': '',\n",
      "                                 'prediction_schema': None,\n",
      "                                 'project': 'default',\n",
      "                                 'tags': {'auto_created': 'true'},\n",
      "                                 'task_type': '',\n",
      "                                 'uri': 'gs://seldon-models/sklearn/iris',\n",
      "                                 'version': ''},\n",
      "                       'model_uri': 'gs://seldon-models/sklearn/iris',\n",
      "                       'node_name': 'iris-container',\n",
      "                       'predictor_name': 'default',\n",
      "                       'shadow': False,\n",
      "                       'traffic': '100'}]}\n"
     ]
    }
   ],
   "source": [
    "try:\n",
    "    # List Runtime Metadata for all deployments associated with a model.\n",
    "    api_response = api_instance.model_metadata_service_list_runtime_metadata_for_model(\n",
    "        model_uri=\"gs://seldon-models/sklearn/iris\", deployment_status=\"Running\"\n",
    "    )\n",
    "    pprint(api_response)\n",
    "except ApiException as e:\n",
    "    print(f\"Failed to call API: {json.loads(e.body)['message']}\")"
   ]
  },
  {
   "cell_type": "markdown",
   "metadata": {},
   "source": [
    "## Get model information for a deployment"
   ]
  },
  {
   "cell_type": "code",
   "execution_count": 14,
   "metadata": {},
   "outputs": [
    {
     "name": "stdout",
     "output_type": "stream",
     "text": [
      "{'next_page_token': '',\n",
      " 'runtime_metadata': [{'creation_time': datetime.datetime(2021, 7, 8, 12, 48, 49, 996794, tzinfo=tzutc()),\n",
      "                       'deployment_kubernetes_uid': '9d09ed08-21ca-4821-96d5-12b9ebed7f13',\n",
      "                       'deployment_name': 'iris',\n",
      "                       'deployment_namespace': 'seldon',\n",
      "                       'deployment_status': 'Running',\n",
      "                       'deployment_type': 'SeldonDeployment',\n",
      "                       'model': {'artifact_type': 'SKLEARN',\n",
      "                                 'creation_time': datetime.datetime(2021, 7, 8, 12, 44, 37, 25240, tzinfo=tzutc()),\n",
      "                                 'metrics': {},\n",
      "                                 'name': '',\n",
      "                                 'prediction_schema': None,\n",
      "                                 'project': 'default',\n",
      "                                 'tags': {'auto_created': 'true'},\n",
      "                                 'task_type': '',\n",
      "                                 'uri': 'gs://seldon-models/sklearn/iris',\n",
      "                                 'version': ''},\n",
      "                       'model_uri': 'gs://seldon-models/sklearn/iris',\n",
      "                       'node_name': 'iris-container',\n",
      "                       'predictor_name': 'default',\n",
      "                       'shadow': False,\n",
      "                       'traffic': '100'}]}\n"
     ]
    }
   ],
   "source": [
    "try:\n",
    "    # List Runtime Metadata for all deployments associated with a model.\n",
    "    api_response = api_instance.model_metadata_service_list_runtime_metadata_for_model(\n",
    "        deployment_name=\"iris\", deployment_namespace=\"seldon\"\n",
    "    )\n",
    "    pprint(api_response)\n",
    "except ApiException as e:\n",
    "    print(f\"Failed to call API: {json.loads(e.body)['message']}\")"
   ]
  }
 ],
 "metadata": {
  "kernelspec": {
   "display_name": "Python 3",
   "language": "python",
   "name": "python3"
  },
  "language_info": {
   "codemirror_mode": {
    "name": "ipython",
    "version": 3
   },
   "file_extension": ".py",
   "mimetype": "text/x-python",
   "name": "python",
   "nbconvert_exporter": "python",
   "pygments_lexer": "ipython3",
   "version": "3.7.10"
  }
 },
 "nbformat": 4,
 "nbformat_minor": 4
}
