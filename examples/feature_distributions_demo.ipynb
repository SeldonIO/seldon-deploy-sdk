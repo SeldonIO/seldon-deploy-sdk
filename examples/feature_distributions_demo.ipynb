{
 "cells": [
  {
   "cell_type": "markdown",
   "metadata": {},
   "source": [
    "# Feature distributions from income classifier demo\n",
    "\n",
    "You'll need to have setup the pipeline for the income classifier and done some requests."
   ]
  },
  {
   "cell_type": "markdown",
   "metadata": {},
   "source": [
    "## API Configuration"
   ]
  },
  {
   "cell_type": "code",
   "execution_count": 3,
   "metadata": {},
   "outputs": [],
   "source": [
    "from seldon_deploy_sdk.rest import ApiException\n",
    "from seldon_deploy_sdk import (\n",
    "    MonitorApi,\n",
    "    DeploymentFeatureData,\n",
    "    Configuration,\n",
    "    ApiClient,\n",
    ")\n",
    "from seldon_deploy_sdk.auth import OIDCAuthenticator"
   ]
  },
  {
   "cell_type": "code",
   "execution_count": 4,
   "metadata": {},
   "outputs": [],
   "source": [
    "# For local testing use\n",
    "INGRESS = \"http://localhost:8080\"\n",
    "\n",
    "# For production usecase set this to your ingress\n",
    "# for example if your SD URL is http://xxx.yyy.zzz.xyz/seldon-deploy/api/v1alpha1 set\n",
    "# INGRESS = \"http://xxx.yyy.zzz.xyz\""
   ]
  },
  {
   "cell_type": "code",
   "execution_count": null,
   "metadata": {},
   "outputs": [],
   "source": [
    "config = Configuration()\n",
    "config.host = f\"{INGRESS}/seldon-deploy/api/v1alpha1\"\n",
    "config.verify_ssl = False"
   ]
  },
  {
   "cell_type": "code",
   "execution_count": 7,
   "metadata": {},
   "outputs": [],
   "source": [
    "# auth if needed\n",
    "config.oidc_server = f\"{INGRESS}/auth/realms/deploy-realm\"\n",
    "config.oidc_client_id = \"sd-api\"\n",
    "config.oidc_client_secret = \"sd-api-secret\"\n",
    "config.auth_method = \"client_credentials\"\n",
    "\n",
    "# Alternativey set instead of the \"client_credentials\" flow\n",
    "# config.username = \"admin@seldon.io\"\n",
    "# config.password = \"12341234\"\n",
    "# config.auth_method = \"password\"\n",
    "\n",
    "auth = OIDCAuthenticator(config)\n",
    "config.id_token = auth.authenticate()"
   ]
  },
  {
   "cell_type": "code",
   "execution_count": 5,
   "metadata": {},
   "outputs": [],
   "source": [
    "api_client = ApiClient(configuration=config, authenticator=auth)\n",
    "api_instance = MonitorApi(api_client)"
   ]
  },
  {
   "cell_type": "markdown",
   "metadata": {},
   "source": [
    "## Request feature distributions"
   ]
  },
  {
   "cell_type": "code",
   "execution_count": 6,
   "metadata": {},
   "outputs": [],
   "source": [
    "deployment_name = \"income-classifier\"\n",
    "deployment_namespace = \"seldon\"\n",
    "feature_data = DeploymentFeatureData(\n",
    "    feature=\"Education\",\n",
    "    interaction=\"request\",\n",
    "    aggregate_over_time=True,\n",
    "    deployment_endpoint=\"default\",\n",
    "    deployment_node=\"income-classifier-container\",\n",
    ")\n",
    "try:\n",
    "    # Get feature distributions\n",
    "    api_response = api_instance.seldon_deployment_feature_distributions(\n",
    "        deployment_name, deployment_namespace, feature_data\n",
    "    )\n",
    "except ApiException as e:\n",
    "    print(f\"Couldn't fetch distributions: {e}\")"
   ]
  },
  {
   "cell_type": "code",
   "execution_count": 7,
   "metadata": {},
   "outputs": [],
   "source": [
    "groups = []\n",
    "counts = []\n",
    "for bucket in api_response.distribution.buckets:\n",
    "    groups.append(bucket.key)\n",
    "    counts.append(bucket.count)"
   ]
  },
  {
   "cell_type": "code",
   "execution_count": 8,
   "metadata": {},
   "outputs": [
    {
     "data": {
      "image/png": "[encoded data removed]",
      "text/plain": [
       "<Figure size 640x480 with 1 Axes>"
      ]
     },
     "metadata": {},
     "output_type": "display_data"
    }
   ],
   "source": [
    "import matplotlib.pyplot as plt\n",
    "\n",
    "fig = plt.figure()\n",
    "ax = fig.add_axes([0, 0, 1, 1])\n",
    "ax.bar(groups, counts)\n",
    "plt.show()"
   ]
  }
 ],
 "metadata": {
  "interpreter": {
   "hash": "916dbcbb3f70747c44a77c7bcd40155683ae19c65e1c03b4aa3499c5328201f1"
  },
  "kernelspec": {
   "display_name": "Python 3",
   "language": "python",
   "name": "python3"
  },
  "language_info": {
   "codemirror_mode": {
    "name": "ipython",
    "version": 3
   },
   "file_extension": ".py",
   "mimetype": "text/x-python",
   "name": "python",
   "nbconvert_exporter": "python",
   "pygments_lexer": "ipython3",
   "version": "3.9.6"
  }
 },
 "nbformat": 4,
 "nbformat_minor": 4
}
